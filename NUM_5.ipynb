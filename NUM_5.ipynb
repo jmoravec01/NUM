{
 "cells": [
  {
   "cell_type": "code",
   "execution_count": null,
   "metadata": {},
   "outputs": [],
   "source": [
    "import numpy as np\n",
    "import math\n",
    "def bisection_method(a, b, n, tol):\n",
    "    while (b-a) / 2 > tol:\n",
    "        c = (a + b) / 2\n",
    "        print(\"kořen (střed intervalu): \", c)\n",
    "        if T(n, c) == 0:\n",
    "            return c\n",
    "        elif T(n, a) * T(n, c) < 0:\n",
    "            b = c\n",
    "        else:\n",
    "            a = c\n",
    "    return (a + b) / 2\n",
    "\n",
    "def T(n, x):\n",
    "    if n == 0:\n",
    "        return 1\n",
    "    elif n == 1:\n",
    "        return x\n",
    "    else:\n",
    "        return 2 * x * T(n-1, x) - T(n-2, x)\n",
    "\n",
    "for i in range(11):\n",
    "    print(math.cos((math.pi * (i-0.5))/10))\n",
    "\n",
    "for i in range(0, 100, 3):\n",
    "    root = bisection_method(0, i, 10, 0.0000001)\n",
    "    print(\" \")\n",
    "\n",
    "\n",
    "# print(\"kořen: \", root)"
   ]
  },
  {
   "cell_type": "code",
   "execution_count": 63,
   "metadata": {},
   "outputs": [
    {
     "name": "stdout",
     "output_type": "stream",
     "text": [
      "Incorrect input\n",
      "Incorrect input\n",
      "Incorrect input\n",
      "Incorrect input\n",
      "Incorrect input\n",
      "Incorrect input\n",
      "Incorrect input\n",
      "[[1, 5, 13, 34, 89], [3, 1, 0, 8, 21], [7, -7, -26, -44, 0], [55, 21, 8, 3, 1], [233, 89, 34, 13, 5]]\n"
     ]
    }
   ],
   "source": [
    "def Fibonacci(n):\n",
    "   \n",
    "    # Check if input is 0 then it will\n",
    "    # print incorrect input\n",
    "    if n < 0:\n",
    "        print(\"Incorrect input\")\n",
    " \n",
    "    # Check if n is 0\n",
    "    # then it will return 0\n",
    "    elif n == 0:\n",
    "        return 0\n",
    " \n",
    "    # Check if n is 1,2\n",
    "    # it will return 1\n",
    "    elif n == 1 or n == 2:\n",
    "        return 1\n",
    " \n",
    "    else:\n",
    "        return Fibonacci(n-1) + Fibonacci(n-2)\n",
    "\n",
    "\n",
    "matrixA = [[1, 5, 13, 34, 89],[3, 1, 0, 8, 21],[7, -7, -26, -44, 0],[55, 21, 8, 3, 1],[233, 89, 34, 13, 5]]\n",
    "vectorB = [0, 1, 1, 2, 3]\n",
    "\n",
    "matrix = []\n",
    "for i in range(1, 6, 1):\n",
    "    matrix.append([])\n",
    "    for j in range(1, 6, 1):\n",
    "        x = Fibonacci(3*i - 2*j)\n",
    "        matrix[i-1].append(x)\n",
    "        \n",
    "# print(matrix)\n",
    "\n",
    "# for i in range(20):\n",
    "#     print(Fibonacci(i))\n",
    "# # print(matrixA)\n",
    "\n",
    "\n",
    "# for i in range(5):\n",
    "#     matrixA[2][i] = (3*matrixA[1][i] - 2*matrixA[0][i])\n",
    "# matrixA[2][4] = 0\n",
    "        \n",
    "print(matrixA)\n",
    "\n",
    "\n",
    "# HODNĚ KOMENTOVAT"
   ]
  }
 ],
 "metadata": {
  "kernelspec": {
   "display_name": "Python 3",
   "language": "python",
   "name": "python3"
  },
  "language_info": {
   "codemirror_mode": {
    "name": "ipython",
    "version": 3
   },
   "file_extension": ".py",
   "mimetype": "text/x-python",
   "name": "python",
   "nbconvert_exporter": "python",
   "pygments_lexer": "ipython3",
   "version": "3.11.0"
  },
  "orig_nbformat": 4,
  "vscode": {
   "interpreter": {
    "hash": "98a192ceb7e3f6bd16a454f29c1267883385aec50280ec1bf99f5dc0b1d0a4ec"
   }
  }
 },
 "nbformat": 4,
 "nbformat_minor": 2
}
