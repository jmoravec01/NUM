{
 "cells": [
  {
   "cell_type": "code",
   "execution_count": 12,
   "metadata": {},
   "outputs": [],
   "source": [
    "import numpy as np\n",
    "from numpy import linalg"
   ]
  },
  {
   "cell_type": "code",
   "execution_count": 13,
   "metadata": {},
   "outputs": [
    {
     "name": "stdout",
     "output_type": "stream",
     "text": [
      "NumPy: [-6.37500000e+02  1.93216087e+03 -6.88000000e+02 -2.28695652e+00\n",
      " -1.73913043e-02]\n",
      " \n",
      "Má cesta: [-637.4999999988696, 1932.1608695617913, -687.9999999987805, -2.286956521734775, -0.017391304347832422]\n",
      " \n"
     ]
    }
   ],
   "source": [
    "# -------------------------------------------------------------DRUHÉ CVIČENÍ-----------------------------------------------------------------------\n",
    "def Fibonacci(n):\n",
    "    # Fibonacci nemá záporné členy\n",
    "    if n < 0:\n",
    "        print(\"Incorrect input\")\n",
    " \n",
    "    # nultý člen je roven 0\n",
    "    elif n == 0:\n",
    "        return 0\n",
    " \n",
    "    # první i druhý člen je roven 1\n",
    "    elif n == 1 or n == 2:\n",
    "        return 1\n",
    "\n",
    "    # x-tý člen získám tím, že spočítám jeho 2 předešlé (například 10. člen získám 8. + 9.) -> osmý získám 7.+6., sedmý 6.+5., .... atp.\n",
    "    # Fibonacci se zde vlastně počítá jakoby \"shora\" -> input 10, tak to projede až do 0 (vrací 0 v prvním elif)\n",
    "    else:\n",
    "        return Fibonacci(n-1) + Fibonacci(n-2)\n",
    "\n",
    "\n",
    "# zadání\n",
    "matrix = [[1, 5, 13, 34, 89],[3, 1, 0, 8, 21],[7, -7, -26, -44, 0],[55, 21, 8, 3, 1],[233, 89, 34, 13, 5]]\n",
    "vectorB = [0, 1, 1, 2, 3]\n",
    "\n",
    "# zkouška Fibonacciho -> pro orientaci\n",
    "# n_Fibo = 10\n",
    "# for i in range(n_Fibo+1):\n",
    "#     print(Fibonacci(i))\n",
    "\n",
    "#----------------------------------------\n",
    "# Gaussova eliminace využívající pivot\n",
    "def gauss(A, b):\n",
    "    n = len(A)\n",
    "\n",
    "    for i in range(n):\n",
    "        # Find pivot row\n",
    "        max_row = i\n",
    "        for k in range(i + 1, n):\n",
    "            if abs(A[k][i]) > abs(A[max_row][i]):\n",
    "                max_row = k\n",
    "\n",
    "        # Swap current row and pivot row\n",
    "        A[i], A[max_row] = A[max_row], A[i]\n",
    "        b[i], b[max_row] = b[max_row], b[i]\n",
    "\n",
    "        # Eliminate the current variable from all rows below\n",
    "        for k in range(i + 1, n):\n",
    "            c = -A[k][i] / A[i][i]\n",
    "            for j in range(i, n):\n",
    "                A[k][j] += c * A[i][j]\n",
    "            b[k] += c * b[i]\n",
    "\n",
    "    # Perform back substitution to find solution\n",
    "    x = [0] * n\n",
    "    for i in range(n - 1, -1, -1):\n",
    "        x[i] = b[i] / A[i][i]\n",
    "        for k in range(i - 1, -1, -1):\n",
    "            b[k] -= A[k][i] * x[i]\n",
    "    return x\n",
    "        \n",
    "# -----------------------------------------------------------------------------------------------------------------\n",
    "print(f\"NumPy: {linalg.solve(matrix, vectorB)}\")\n",
    "print(\" \")\n",
    "\n",
    "print(f\"Má cesta: {gauss(matrix, vectorB)}\")\n",
    "print(\" \")\n",
    "\n",
    "\n"
   ]
  }
 ],
 "metadata": {
  "kernelspec": {
   "display_name": "Python 3",
   "language": "python",
   "name": "python3"
  },
  "language_info": {
   "codemirror_mode": {
    "name": "ipython",
    "version": 3
   },
   "file_extension": ".py",
   "mimetype": "text/x-python",
   "name": "python",
   "nbconvert_exporter": "python",
   "pygments_lexer": "ipython3",
   "version": "3.11.1"
  },
  "orig_nbformat": 4,
  "vscode": {
   "interpreter": {
    "hash": "98a192ceb7e3f6bd16a454f29c1267883385aec50280ec1bf99f5dc0b1d0a4ec"
   }
  }
 },
 "nbformat": 4,
 "nbformat_minor": 2
}
